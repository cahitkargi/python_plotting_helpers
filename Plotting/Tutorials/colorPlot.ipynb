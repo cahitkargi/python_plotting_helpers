{
 "cells": [
  {
   "cell_type": "code",
   "execution_count": 1,
   "metadata": {},
   "outputs": [],
   "source": [
    "import os\n",
    "import sys\n",
    "from pathlib import Path\n",
    "path = str(Path(os.getcwd()).parent.parent)\n",
    "sys.path.insert(0, path)\n",
    "\n",
    "from Plotting.figCreate import createFigAndAx\n",
    "from Plotting.colorPlots import irregColorPlot\n",
    "from Plotting.plotSettings import axTickSettings, rcSettings\n",
    "rcSettings()\n",
    "\n",
    "import matplotlib.pyplot as plt\n",
    "import numpy as np"
   ]
  },
  {
   "cell_type": "code",
   "execution_count": 5,
   "metadata": {},
   "outputs": [
    {
     "data": {
      "text/plain": [
       "[[0], [0, 1], [0, 1, 2], [0, 1, 2, 3]]"
      ]
     },
     "execution_count": 5,
     "metadata": {},
     "output_type": "execute_result"
    }
   ],
   "source": [
    "dataZ"
   ]
  },
  {
   "cell_type": "code",
   "execution_count": 15,
   "metadata": {},
   "outputs": [
    {
     "data": {
      "image/png": "[encoded data removed]",
      "text/plain": [
       "<Figure size 240.945x240.945 with 1 Axes>"
      ]
     },
     "metadata": {
      "needs_background": "light"
     },
     "output_type": "display_data"
    }
   ],
   "source": [
    "fig, axGrids = createFigAndAx(width=8.5, height=8.5, rows=1, columns=1, inCm=True)\n",
    "\n",
    "dataX = [1, 2, 3, 4, 5]\n",
    "dataY = 100\n",
    "dataZ = [[i for i in range(25*j)] for j in dataX]\n",
    "dataZ.reverse()\n",
    "\n",
    "surface = irregColorPlot(dataX, dataY, dataZ, axGrids[0], cbarMin=0, cbarMax=20, cmap='PuYlGn')\n",
    "\n",
    "axTickSettings(axGrids[0])"
   ]
  },
  {
   "cell_type": "code",
   "execution_count": null,
   "metadata": {},
   "outputs": [],
   "source": []
  }
 ],
 "metadata": {
  "kernelspec": {
   "display_name": "Python 3.10.4 ('randomEnv')",
   "language": "python",
   "name": "python3"
  },
  "language_info": {
   "codemirror_mode": {
    "name": "ipython",
    "version": 3
   },
   "file_extension": ".py",
   "mimetype": "text/x-python",
   "name": "python",
   "nbconvert_exporter": "python",
   "pygments_lexer": "ipython3",
   "version": "3.10.4"
  },
  "orig_nbformat": 4,
  "vscode": {
   "interpreter": {
    "hash": "8e05dc79241d1bba45904fec693c2fca3e40fe002e28cd9f7b2df3bcceacd548"
   }
  }
 },
 "nbformat": 4,
 "nbformat_minor": 2
}
