{
 "metadata": {
  "language_info": {
   "codemirror_mode": {
    "name": "ipython",
    "version": 3
   },
   "file_extension": ".py",
   "mimetype": "text/x-python",
   "name": "python",
   "nbconvert_exporter": "python",
   "pygments_lexer": "ipython3",
   "version": "3.9.5"
  },
  "orig_nbformat": 4,
  "kernelspec": {
   "name": "python3",
   "display_name": "Python 3.9.5 64-bit"
  },
  "interpreter": {
   "hash": "aee8b7b246df8f9039afb4144a1f6fd8d2ca17a180786b69acc140d282b71a49"
  }
 },
 "nbformat": 4,
 "nbformat_minor": 2,
 "cells": [
  {
   "cell_type": "code",
   "execution_count": 3,
   "metadata": {},
   "outputs": [],
   "source": [
    "import os\n",
    "import sys\n",
    "from pathlib import Path\n",
    "path = str(Path(os.getcwd()).parent.parent)\n",
    "sys.path.insert(0, path)\n",
    "from Plotting.colorFuncs import colorCycle\n",
    "from Plotting.plotSettings import axTickSettings, rcSettings\n",
    "import matplotlib.pyplot as plt\n",
    "import numpy as np\n",
    "rcSettings()"
   ]
  },
  {
   "cell_type": "code",
   "execution_count": 4,
   "metadata": {},
   "outputs": [
    {
     "output_type": "execute_result",
     "data": {
      "text/plain": [
       "array([ 2,  4,  6,  8, 10, 12, 14, 16, 18])"
      ]
     },
     "metadata": {},
     "execution_count": 4
    }
   ],
   "source": [
    "x = np.arange(1, 10)\n",
    "x *= 2\n",
    "x"
   ]
  },
  {
   "cell_type": "code",
   "execution_count": null,
   "metadata": {},
   "outputs": [],
   "source": [
    "cCycle = colorCycle(10)\n",
    "vals = np.arange(0, 10, 0.1)\n",
    "for i in range(10):\n",
    "    plt.plot(vals, (i+1)*vals, color=cCycle[i])\n",
    "plt.xlabel('x label')\n",
    "plt.ylabel('y label')"
   ]
  },
  {
   "cell_type": "code",
   "execution_count": null,
   "metadata": {},
   "outputs": [],
   "source": [
    "cCycle = colorCycle(10, cmap='viridis_r')\n",
    "vals = np.arange(0, 10, 0.1)\n",
    "for i in range(10):\n",
    "    plt.plot(vals, (i+1)*vals, color=cCycle[i])\n",
    "plt.xlabel('x label')\n",
    "plt.ylabel('y label')"
   ]
  },
  {
   "cell_type": "code",
   "execution_count": null,
   "metadata": {},
   "outputs": [],
   "source": []
  }
 ]
}